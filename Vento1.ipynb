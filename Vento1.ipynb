{
  "nbformat": 4,
  "nbformat_minor": 0,
  "metadata": {
    "colab": {
      "provenance": [],
      "collapsed_sections": [
        "GPfvPrSjqCxM"
      ],
      "include_colab_link": true
    },
    "kernelspec": {
      "name": "python3",
      "display_name": "Python 3"
    },
    "language_info": {
      "name": "python"
    }
  },
  "cells": [
    {
      "cell_type": "markdown",
      "metadata": {
        "id": "view-in-github",
        "colab_type": "text"
      },
      "source": [
        "<a href=\"https://colab.research.google.com/github/chcorreia/VentoNorte/blob/main/Vento1.ipynb\" target=\"_parent\"><img src=\"https://colab.research.google.com/assets/colab-badge.svg\" alt=\"Open In Colab\"/></a>"
      ]
    },
    {
      "cell_type": "markdown",
      "source": [
        "# Aula prática de SQL\n",
        "\n",
        "Esse é um **Notebook Jupyter** do **Google Colab**.\n",
        "\n",
        "Notebooks Jupyter são um tipo de programa que mistura blocos de texto com blocos de programação (geralmente usando linguagem Python ou R) que é muito usado em análise de dados.\n",
        "\n",
        "Google Colab é um serviço que permite rodar e compartilhar notebooks gratuitamente, salvando-os no Google Drive ou no GitHub.\n",
        "\n",
        "- Você pode rodar todas as células de uma vez selecionando `Ambiente de Execução / Executar tudo (Ctrl+F9)` no menu do Colab.\n",
        "- Ou você pode executar uma célula de cada vez clicando na célula em teclando `Ctrl+Enter` (ou, se você estiver editando o conteúdo da célula, finalizar e rodar usando `Shift+Enter`.\n",
        "- No nosso caso, vamos executar uma célula de cada vez, para ler com atenção as instruções antes de rodar cada célula.\n",
        "\n",
        "```\n",
        "Autor: Prof. Carlos H Correia\n",
        "SENAI Pato Branco/PR\n",
        "carlos.correia@sistemafiep.org.br\n",
        "```"
      ],
      "metadata": {
        "id": "r2W_5eBaelF1"
      }
    },
    {
      "cell_type": "markdown",
      "source": [
        "## Sobre esse Notebook - Vento1.ipynb\n",
        "\n",
        "Criei esse notebook para que possamos praticar a linguagem SQL ao mesmo tempo que aprendemos uma ferramenta nova, que mais adiante podemos usar para fazer análises de dados em nossos bancos de dados."
      ],
      "metadata": {
        "id": "Ejim3uKQyka1"
      }
    },
    {
      "cell_type": "markdown",
      "source": [
        "## O banco de dados \"Vento Norte\"\n",
        "\n",
        "A empresa \"Vento Norte\" de comércio é especializada em comerciar especialidades culinárias do mundo direto para a sua casa! Esse banco registra pedidos de compras que ligam clientes e fornecedores de vários lugares do planeta:\n",
        "\n",
        "Esse banco é uma versão traduzida e convertida para o PostgresSQL do famoso banco \"Northwind Traders\" criado pela Microsoft para treinamento dos seus bancos de dados (Access, MS SQL Server).\n",
        "\n",
        "O banco traduzido pode ser encontrado em\n",
        "https://github.com/profcarlos-senai/VentoNorte\n",
        "\n",
        "![Diagrama do banco VentoNorte](https://i.imgur.com/dbo8jbw.png)"
      ],
      "metadata": {
        "id": "CxysIrB2vFUK"
      }
    },
    {
      "cell_type": "markdown",
      "source": [
        "## 1 - Conectando ao servidor\n",
        "\n",
        "A Célula abaixo tem um código que precisa ser executado. Clique dentro da célula e tecle `Ctrl+Enter`."
      ],
      "metadata": {
        "id": "HKNBGByJgqFw"
      }
    },
    {
      "cell_type": "code",
      "source": [
        "# carrega as extensões do python que permitem conectar ao servidor\n",
        "!pip install ipython-sql psycopg2-binary"
      ],
      "metadata": {
        "id": "FWNv51hVeQTS"
      },
      "execution_count": null,
      "outputs": []
    },
    {
      "cell_type": "markdown",
      "source": [
        "Os dois blocos de comandos a seguir são escritos em Python fazem a nossa conexão.\n",
        "\n",
        "O nosso foco agora não é aprender Python, então só vamos rodar esse blocos e seguir pra frente.\n",
        "\n",
        "Mesmo assim, tente ler esses comandos e comparar com as linguagens que você conhece, e tentar entender.\n",
        "\n",
        "Depois de fazer a conexão poderemos escrever nossas células diretamente em SQL."
      ],
      "metadata": {
        "id": "nN61yMwlhERc"
      }
    },
    {
      "cell_type": "code",
      "source": [
        "# carrega a extensão que permite escrever SQL direto dentro das células\n",
        "%load_ext sql\n",
        "\n",
        "# configura o estilo visual das células de SQL\n",
        "%config SqlMagic.style = '_DEPRECATED_DEFAULT'\n",
        "%config SqlMagic.autopandas = True"
      ],
      "metadata": {
        "id": "uTYKyiY6tF4z"
      },
      "execution_count": null,
      "outputs": []
    },
    {
      "cell_type": "code",
      "source": [
        "# importa o comando de digitar senhas\n",
        "from getpass import getpass\n",
        "\n",
        "# como esse notebook é público, vou pedir para digitar o servidor e a senha\n",
        "# em vez de deixá-los dentro do código do programa on qualquer um possa ver\n",
        "servidor = input(\"Servidor: \")\n",
        "senha = getpass(\"Senha:\")\n",
        "\n",
        "# monta a string de conexão\n",
        "CONEXAO = f\"postgresql://postgres:{senha}@{servidor}:5432/vento\"\n",
        "\n",
        "# Conecta ao servidor\n",
        "try:\n",
        "    %sql $CONEXAO\n",
        "    print(\"✅ Conexão bem-sucedida!\")\n",
        "except Exception as e:\n",
        "    print(\"❌ Falha na conexão! Verifique suas credenciais e tente novamente.\")"
      ],
      "metadata": {
        "id": "UEoyelr3Zoko"
      },
      "execution_count": null,
      "outputs": []
    },
    {
      "cell_type": "markdown",
      "source": [
        "## 2 - Nosso primeiro comando em SQL\n",
        "\n",
        "As células com comandos em SQL precisam ter o comando `%%sql` na primeira linha. Dali pra frente é só SQL puro."
      ],
      "metadata": {
        "id": "4W_WZFcFmnsk"
      }
    },
    {
      "cell_type": "code",
      "source": [
        "%%sql\n",
        "-- esse é um comentário em sql\n",
        "select *\n",
        "from regiao;"
      ],
      "metadata": {
        "id": "GdT20xephaEp"
      },
      "execution_count": null,
      "outputs": []
    },
    {
      "cell_type": "markdown",
      "source": [
        "## 3 - Agora é a sua vez de escrever\n",
        "\n",
        "Edite a célula abaixo e coloque na primeira linha o comando `%%sql`.\n",
        "\n",
        "Em seguida escreva uma query para listar todos os clientes do Brasil (agora com \"s\", eu terminei de traduzir).\n",
        "\n",
        "Quando terminar a digitação, tecle `Shift+Enter` para executar o código.  "
      ],
      "metadata": {
        "id": "TOwT0n1cnLeC"
      }
    },
    {
      "cell_type": "code",
      "source": [
        "%%sql\n",
        "select *\n",
        "from cliente\n",
        "where pais='Brasil';"
      ],
      "metadata": {
        "id": "-TCFrrPtnjZu"
      },
      "execution_count": null,
      "outputs": []
    },
    {
      "cell_type": "markdown",
      "source": [
        "A mesma query, mas ignorando maúsculas e minúsculas"
      ],
      "metadata": {
        "id": "-Y5ewLj0jdij"
      }
    },
    {
      "cell_type": "code",
      "source": [
        "%%sql\n",
        "select *\n",
        "from cliente\n",
        "where lower(pais) LIKE 'brasil';"
      ],
      "metadata": {
        "id": "uxdXdti2jiAb"
      },
      "execution_count": null,
      "outputs": []
    },
    {
      "cell_type": "markdown",
      "source": [
        "## 4 - Exercícios de sala de aula\n",
        "\n",
        "Escreva aqui os exercícios que o professor passar em sala de aula. Cada um deles deve ser feito em uma célula separada."
      ],
      "metadata": {
        "id": "JtG329llCncq"
      }
    },
    {
      "cell_type": "markdown",
      "source": [
        "### Todos os clientes com \"gourmet\" no nome (ignorando maiúsculas)\n",
        "\n",
        "Dica: use LIKE com o marcador '%' (que quer dizer qualquer combinação de caracteres)"
      ],
      "metadata": {
        "id": "MVbgpAOPq-iI"
      }
    },
    {
      "cell_type": "code",
      "source": [
        "%%sql\n",
        "select *\n",
        "from cliente\n",
        "where lower(empresa_nome) LIKE '%gourmet%';"
      ],
      "metadata": {
        "id": "mAbmHsERqHeC"
      },
      "execution_count": null,
      "outputs": []
    },
    {
      "cell_type": "markdown",
      "source": [
        "### Listar todos os pedidos atrasados que falta mandar"
      ],
      "metadata": {
        "id": "pyakh0rX0k8a"
      }
    },
    {
      "cell_type": "code",
      "source": [
        "%%sql\n",
        "select * from pedido\n",
        "where (current_date > solicita_data) and (envio_data is null)\n",
        "order by pedido_data;"
      ],
      "metadata": {
        "id": "3w9rgEMNqHu6"
      },
      "execution_count": null,
      "outputs": []
    },
    {
      "cell_type": "markdown",
      "source": [
        "Vamos formatar um pouco melhor. Liste as seguintes informações:\n",
        "- id do pedido\n",
        "- nome do cliente\n",
        "- data prometido (solicita_data)\n",
        "- dias de atraso"
      ],
      "metadata": {
        "id": "TC_-wkTY5dl3"
      }
    },
    {
      "cell_type": "code",
      "source": [
        "%%sql\n",
        "select p.id, c.empresa_nome, p.solicita_data,\n",
        "  (CURRENT_DATE-p.solicita_data) as dias_atraso\n",
        "from cliente c join pedido p on p.id_cliente = c.id\n",
        "where (current_date > solicita_data) and (envio_data is null)\n",
        "order by pedido_data;"
      ],
      "metadata": {
        "id": "1xDjkXud5z3S"
      },
      "execution_count": null,
      "outputs": []
    },
    {
      "cell_type": "markdown",
      "source": [
        "Agora colocar o total em reais de cada pedido"
      ],
      "metadata": {
        "id": "nF_ZybDc9Lnj"
      }
    },
    {
      "cell_type": "code",
      "source": [
        "%%sql\n",
        "select p.id, c.empresa_nome, p.solicita_data,\n",
        "  (CURRENT_DATE-p.solicita_data) as dias_atraso,\n",
        "  (select sum(valor) from item_pedido i where i.id_pedido = p.id) as total\n",
        "from cliente c join pedido p on p.id_cliente = c.id\n",
        "where (current_date > solicita_data) and (envio_data is null)\n",
        "order by pedido_data;"
      ],
      "metadata": {
        "id": "HixL19Ln9OLb"
      },
      "execution_count": null,
      "outputs": []
    },
    {
      "cell_type": "markdown",
      "source": [
        "# Tudo coisado aqui"
      ],
      "metadata": {
        "id": "GPfvPrSjqCxM"
      }
    },
    {
      "cell_type": "markdown",
      "source": [
        "### Pegar todos os clientes que tem \"Gourmet\" no nome da empresa"
      ],
      "metadata": {
        "id": "QXuUBk9XlwfE"
      }
    },
    {
      "cell_type": "code",
      "source": [
        "%%sql\n",
        "select 1\n"
      ],
      "metadata": {
        "id": "GLRjXPVgv2Ct"
      },
      "execution_count": null,
      "outputs": []
    },
    {
      "cell_type": "markdown",
      "source": [
        "### Listar todos os produtos com estoque crítico que eu preciso encomendar mais\n",
        "\n",
        "Remover do resultado os produtos esgotados no fornecedor, porque esses não adianta pedir mais porque não tem."
      ],
      "metadata": {
        "id": "1TnijtPRodZ2"
      }
    },
    {
      "cell_type": "code",
      "source": [
        "%%sql\n",
        "select 1"
      ],
      "metadata": {
        "id": "0mXYFLvFwV0A"
      },
      "execution_count": null,
      "outputs": []
    },
    {
      "cell_type": "markdown",
      "source": [
        "### Pra facilitar o processo de encomenda, faça uma lista contendo\n",
        "- O nome da empresa, contato e fone do fornecedor\n",
        "- Nome do produto, a quantidade que vou encomendar\n",
        "- Quantas unidades vou ter quando chegar o pedido\n",
        "\n",
        "(com as mesmas restrições do exercício anterior)"
      ],
      "metadata": {
        "id": "751-BYgsq4EQ"
      }
    },
    {
      "cell_type": "code",
      "source": [
        "%%sql\n",
        "select 1"
      ],
      "metadata": {
        "id": "3vHdQR66psRH"
      },
      "execution_count": null,
      "outputs": []
    },
    {
      "cell_type": "markdown",
      "source": [
        "### Listar todos os pedidos com envio atrasado"
      ],
      "metadata": {
        "id": "7xkTdmc1z50I"
      }
    },
    {
      "cell_type": "code",
      "source": [
        "%%sql\n",
        "select 1"
      ],
      "metadata": {
        "id": "g_DBg9eZtVPt"
      },
      "execution_count": null,
      "outputs": []
    },
    {
      "cell_type": "code",
      "source": [
        "s%sql select * from categoria;"
      ],
      "metadata": {
        "id": "9NuEgwHI0TA_"
      },
      "execution_count": null,
      "outputs": []
    },
    {
      "cell_type": "code",
      "source": [],
      "metadata": {
        "id": "IYzTO5Th3boA"
      },
      "execution_count": null,
      "outputs": []
    }
  ]
}